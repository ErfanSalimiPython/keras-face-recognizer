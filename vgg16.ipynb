{
 "cells": [
  {
   "cell_type": "code",
   "execution_count": 42,
   "metadata": {},
   "outputs": [],
   "source": [
    "from keras import layers, models\n",
    "from keras.applications import vgg16\n",
    "\n",
    "import numpy as np\n",
    "\n",
    "import matplotlib.pyplot as plt"
   ]
  },
  {
   "cell_type": "code",
   "execution_count": 43,
   "metadata": {},
   "outputs": [],
   "source": [
    "dataset = np.load(r'F:\\ai\\recognition-football-players\\dataset\\vgg16_dataset.npz')"
   ]
  },
  {
   "cell_type": "code",
   "execution_count": 44,
   "metadata": {},
   "outputs": [],
   "source": [
    "model = models.Sequential()\n",
    "vgg = vgg16.VGG16(include_top=False, pooling=\"avg\", weights=\"imagenet\", input_shape=(224, 224, 3))\n",
    "\n",
    "for layer in vgg.layers[:-4]:\n",
    "    model.add(layer)\n",
    "\n",
    "for layer in model.layers:\n",
    "    layer.trainable = False"
   ]
  },
  {
   "cell_type": "code",
   "execution_count": 45,
   "metadata": {},
   "outputs": [
    {
     "name": "stdout",
     "output_type": "stream",
     "text": [
      "Model: \"sequential_5\"\n",
      "_________________________________________________________________\n",
      " Layer (type)                Output Shape              Param #   \n",
      "=================================================================\n",
      " block1_conv1 (Conv2D)       (None, 224, 224, 64)      1792      \n",
      "                                                                 \n",
      " block1_conv2 (Conv2D)       (None, 224, 224, 64)      36928     \n",
      "                                                                 \n",
      " block1_pool (MaxPooling2D)  (None, 112, 112, 64)      0         \n",
      "                                                                 \n",
      " block2_conv1 (Conv2D)       (None, 112, 112, 128)     73856     \n",
      "                                                                 \n",
      " block2_conv2 (Conv2D)       (None, 112, 112, 128)     147584    \n",
      "                                                                 \n",
      " block2_pool (MaxPooling2D)  (None, 56, 56, 128)       0         \n",
      "                                                                 \n",
      " block3_conv1 (Conv2D)       (None, 56, 56, 256)       295168    \n",
      "                                                                 \n",
      " block3_conv2 (Conv2D)       (None, 56, 56, 256)       590080    \n",
      "                                                                 \n",
      " block3_conv3 (Conv2D)       (None, 56, 56, 256)       590080    \n",
      "                                                                 \n",
      " block3_pool (MaxPooling2D)  (None, 28, 28, 256)       0         \n",
      "                                                                 \n",
      " block4_conv1 (Conv2D)       (None, 28, 28, 512)       1180160   \n",
      "                                                                 \n",
      " block4_conv2 (Conv2D)       (None, 28, 28, 512)       2359808   \n",
      "                                                                 \n",
      " block4_conv3 (Conv2D)       (None, 28, 28, 512)       2359808   \n",
      "                                                                 \n",
      " block4_pool (MaxPooling2D)  (None, 14, 14, 512)       0         \n",
      "                                                                 \n",
      " block5_conv1 (Conv2D)       (None, 14, 14, 512)       2359808   \n",
      "                                                                 \n",
      "=================================================================\n",
      "Total params: 9,995,072\n",
      "Trainable params: 0\n",
      "Non-trainable params: 9,995,072\n",
      "_________________________________________________________________\n"
     ]
    }
   ],
   "source": [
    "model.summary()"
   ]
  },
  {
   "cell_type": "code",
   "execution_count": 46,
   "metadata": {},
   "outputs": [],
   "source": [
    "model.add(layers.Conv2D(256, (3,3), padding='same', activation='relu'))\n",
    "model.add(layers.BatchNormalization())\n",
    "model.add(layers.Conv2D(256, (3,3), padding='same', activation='relu'))\n",
    "model.add(layers.BatchNormalization())\n",
    "model.add(layers.MaxPooling2D(pool_size=(2,2)))\n",
    "model.add(layers.Dropout(0.5))\n",
    "\n",
    "model.add(layers.Flatten())\n",
    "model.add(layers.Dense(128, activation='relu'))\n",
    "model.add(layers.BatchNormalization())\n",
    "model.add(layers.Dropout(0.5))\n",
    "model.add(layers.Dense(28, activation='softmax'))"
   ]
  },
  {
   "cell_type": "code",
   "execution_count": 47,
   "metadata": {},
   "outputs": [
    {
     "name": "stdout",
     "output_type": "stream",
     "text": [
      "Model: \"sequential_5\"\n",
      "_________________________________________________________________\n",
      " Layer (type)                Output Shape              Param #   \n",
      "=================================================================\n",
      " block1_conv1 (Conv2D)       (None, 224, 224, 64)      1792      \n",
      "                                                                 \n",
      " block1_conv2 (Conv2D)       (None, 224, 224, 64)      36928     \n",
      "                                                                 \n",
      " block1_pool (MaxPooling2D)  (None, 112, 112, 64)      0         \n",
      "                                                                 \n",
      " block2_conv1 (Conv2D)       (None, 112, 112, 128)     73856     \n",
      "                                                                 \n",
      " block2_conv2 (Conv2D)       (None, 112, 112, 128)     147584    \n",
      "                                                                 \n",
      " block2_pool (MaxPooling2D)  (None, 56, 56, 128)       0         \n",
      "                                                                 \n",
      " block3_conv1 (Conv2D)       (None, 56, 56, 256)       295168    \n",
      "                                                                 \n",
      " block3_conv2 (Conv2D)       (None, 56, 56, 256)       590080    \n",
      "                                                                 \n",
      " block3_conv3 (Conv2D)       (None, 56, 56, 256)       590080    \n",
      "                                                                 \n",
      " block3_pool (MaxPooling2D)  (None, 28, 28, 256)       0         \n",
      "                                                                 \n",
      " block4_conv1 (Conv2D)       (None, 28, 28, 512)       1180160   \n",
      "                                                                 \n",
      " block4_conv2 (Conv2D)       (None, 28, 28, 512)       2359808   \n",
      "                                                                 \n",
      " block4_conv3 (Conv2D)       (None, 28, 28, 512)       2359808   \n",
      "                                                                 \n",
      " block4_pool (MaxPooling2D)  (None, 14, 14, 512)       0         \n",
      "                                                                 \n",
      " block5_conv1 (Conv2D)       (None, 14, 14, 512)       2359808   \n",
      "                                                                 \n",
      " conv2d_6 (Conv2D)           (None, 14, 14, 256)       1179904   \n",
      "                                                                 \n",
      " batch_normalization_6 (Batc  (None, 14, 14, 256)      1024      \n",
      " hNormalization)                                                 \n",
      "                                                                 \n",
      " conv2d_7 (Conv2D)           (None, 14, 14, 256)       590080    \n",
      "                                                                 \n",
      " batch_normalization_7 (Batc  (None, 14, 14, 256)      1024      \n",
      " hNormalization)                                                 \n",
      "                                                                 \n",
      " max_pooling2d_2 (MaxPooling  (None, 7, 7, 256)        0         \n",
      " 2D)                                                             \n",
      "                                                                 \n",
      " dropout_4 (Dropout)         (None, 7, 7, 256)         0         \n",
      "                                                                 \n",
      " flatten_2 (Flatten)         (None, 12544)             0         \n",
      "                                                                 \n",
      " dense_8 (Dense)             (None, 128)               1605760   \n",
      "                                                                 \n",
      " batch_normalization_8 (Batc  (None, 128)              512       \n",
      " hNormalization)                                                 \n",
      "                                                                 \n",
      " dropout_5 (Dropout)         (None, 128)               0         \n",
      "                                                                 \n",
      " dense_9 (Dense)             (None, 28)                3612      \n",
      "                                                                 \n",
      "=================================================================\n",
      "Total params: 13,376,988\n",
      "Trainable params: 3,380,636\n",
      "Non-trainable params: 9,996,352\n",
      "_________________________________________________________________\n"
     ]
    }
   ],
   "source": [
    "model.summary()"
   ]
  },
  {
   "cell_type": "code",
   "execution_count": 48,
   "metadata": {},
   "outputs": [],
   "source": [
    "model.compile(loss='categorical_crossentropy',\n",
    "              optimizer='adam',\n",
    "              metrics=['accuracy'])"
   ]
  },
  {
   "cell_type": "code",
   "execution_count": 49,
   "metadata": {},
   "outputs": [
    {
     "name": "stdout",
     "output_type": "stream",
     "text": [
      "Epoch 1/35\n",
      "27/27 [==============================] - 76s 3s/step - loss: 3.8582 - accuracy: 0.0881 - val_loss: 9.9884 - val_accuracy: 0.0500\n",
      "Epoch 2/35\n",
      "27/27 [==============================] - 69s 3s/step - loss: 2.6555 - accuracy: 0.2643 - val_loss: 7.7983 - val_accuracy: 0.0357\n",
      "Epoch 3/35\n",
      "27/27 [==============================] - 68s 3s/step - loss: 2.0583 - accuracy: 0.4429 - val_loss: 4.6902 - val_accuracy: 0.1500\n",
      "Epoch 4/35\n",
      "27/27 [==============================] - 64s 2s/step - loss: 1.5486 - accuracy: 0.5810 - val_loss: 3.0296 - val_accuracy: 0.1929\n",
      "Epoch 5/35\n",
      "27/27 [==============================] - 64s 2s/step - loss: 1.1440 - accuracy: 0.7286 - val_loss: 1.8102 - val_accuracy: 0.5000\n",
      "Epoch 6/35\n",
      "27/27 [==============================] - 64s 2s/step - loss: 0.7370 - accuracy: 0.8619 - val_loss: 1.4002 - val_accuracy: 0.7000\n",
      "Epoch 7/35\n",
      "27/27 [==============================] - 67s 3s/step - loss: 0.5485 - accuracy: 0.9238 - val_loss: 1.3245 - val_accuracy: 0.6929\n",
      "Epoch 8/35\n",
      "27/27 [==============================] - 72s 3s/step - loss: 0.4324 - accuracy: 0.9452 - val_loss: 1.3738 - val_accuracy: 0.6286\n",
      "Epoch 9/35\n",
      "27/27 [==============================] - 72s 3s/step - loss: 0.3246 - accuracy: 0.9690 - val_loss: 1.4756 - val_accuracy: 0.6286\n",
      "Epoch 10/35\n",
      "27/27 [==============================] - 72s 3s/step - loss: 0.2544 - accuracy: 0.9881 - val_loss: 1.2077 - val_accuracy: 0.7071\n",
      "Epoch 11/35\n",
      "27/27 [==============================] - 75s 3s/step - loss: 0.2096 - accuracy: 0.9929 - val_loss: 1.1571 - val_accuracy: 0.7286\n",
      "Epoch 12/35\n",
      "27/27 [==============================] - 72s 3s/step - loss: 0.1822 - accuracy: 0.9857 - val_loss: 1.5105 - val_accuracy: 0.5929\n",
      "Epoch 13/35\n",
      "27/27 [==============================] - 72s 3s/step - loss: 0.1569 - accuracy: 0.9952 - val_loss: 1.0750 - val_accuracy: 0.7071\n",
      "Epoch 14/35\n",
      "27/27 [==============================] - 70s 3s/step - loss: 0.1744 - accuracy: 0.9905 - val_loss: 0.9811 - val_accuracy: 0.7500\n",
      "Epoch 15/35\n",
      "27/27 [==============================] - 70s 3s/step - loss: 0.1520 - accuracy: 0.9929 - val_loss: 1.5682 - val_accuracy: 0.5500\n",
      "Epoch 16/35\n",
      "27/27 [==============================] - 70s 3s/step - loss: 0.1314 - accuracy: 0.9881 - val_loss: 0.9936 - val_accuracy: 0.7214\n",
      "Epoch 17/35\n",
      "27/27 [==============================] - 71s 3s/step - loss: 0.0996 - accuracy: 0.9952 - val_loss: 0.8970 - val_accuracy: 0.7714\n",
      "Epoch 18/35\n",
      "27/27 [==============================] - 71s 3s/step - loss: 0.0819 - accuracy: 0.9976 - val_loss: 0.8547 - val_accuracy: 0.7571\n",
      "Epoch 19/35\n",
      "27/27 [==============================] - 71s 3s/step - loss: 0.0580 - accuracy: 1.0000 - val_loss: 0.8131 - val_accuracy: 0.7714\n",
      "Epoch 20/35\n",
      "27/27 [==============================] - 71s 3s/step - loss: 0.0673 - accuracy: 1.0000 - val_loss: 0.9196 - val_accuracy: 0.7429\n",
      "Epoch 21/35\n",
      "27/27 [==============================] - 71s 3s/step - loss: 0.0615 - accuracy: 1.0000 - val_loss: 0.8433 - val_accuracy: 0.7500\n",
      "Epoch 22/35\n",
      "27/27 [==============================] - 71s 3s/step - loss: 0.0550 - accuracy: 1.0000 - val_loss: 0.8071 - val_accuracy: 0.7714\n",
      "Epoch 23/35\n",
      "27/27 [==============================] - 70s 3s/step - loss: 0.0479 - accuracy: 0.9976 - val_loss: 0.7906 - val_accuracy: 0.7714\n",
      "Epoch 24/35\n",
      "27/27 [==============================] - 71s 3s/step - loss: 0.0404 - accuracy: 1.0000 - val_loss: 0.7793 - val_accuracy: 0.7571\n",
      "Epoch 25/35\n",
      "27/27 [==============================] - 71s 3s/step - loss: 0.0365 - accuracy: 1.0000 - val_loss: 2.0595 - val_accuracy: 0.5286\n",
      "Epoch 26/35\n",
      "27/27 [==============================] - 71s 3s/step - loss: 0.0431 - accuracy: 1.0000 - val_loss: 0.9410 - val_accuracy: 0.7143\n",
      "Epoch 27/35\n",
      "27/27 [==============================] - 71s 3s/step - loss: 0.0585 - accuracy: 0.9976 - val_loss: 0.7478 - val_accuracy: 0.8214\n",
      "Epoch 28/35\n",
      "27/27 [==============================] - 71s 3s/step - loss: 0.0381 - accuracy: 1.0000 - val_loss: 0.7301 - val_accuracy: 0.8143\n",
      "Epoch 29/35\n",
      "27/27 [==============================] - 71s 3s/step - loss: 0.0394 - accuracy: 1.0000 - val_loss: 0.7235 - val_accuracy: 0.8071\n",
      "Epoch 30/35\n",
      "27/27 [==============================] - 71s 3s/step - loss: 0.0302 - accuracy: 1.0000 - val_loss: 0.7164 - val_accuracy: 0.7857\n",
      "Epoch 31/35\n",
      "27/27 [==============================] - 72s 3s/step - loss: 0.0244 - accuracy: 1.0000 - val_loss: 0.6771 - val_accuracy: 0.8214\n",
      "Epoch 32/35\n",
      "27/27 [==============================] - 72s 3s/step - loss: 0.0262 - accuracy: 1.0000 - val_loss: 0.7215 - val_accuracy: 0.8143\n",
      "Epoch 33/35\n",
      "27/27 [==============================] - 72s 3s/step - loss: 0.0275 - accuracy: 1.0000 - val_loss: 0.7173 - val_accuracy: 0.8000\n",
      "Epoch 34/35\n",
      "27/27 [==============================] - 72s 3s/step - loss: 0.0224 - accuracy: 1.0000 - val_loss: 0.7113 - val_accuracy: 0.8143\n",
      "Epoch 35/35\n",
      "27/27 [==============================] - 72s 3s/step - loss: 0.0598 - accuracy: 0.9929 - val_loss: 1.1635 - val_accuracy: 0.6429\n"
     ]
    }
   ],
   "source": [
    "history = model.fit(dataset['train_images'], dataset['train_labels'], validation_data=(dataset['test_images'], dataset['test_labels']), batch_size=16, epochs=35)"
   ]
  },
  {
   "cell_type": "code",
   "execution_count": null,
   "metadata": {},
   "outputs": [],
   "source": []
  }
 ],
 "metadata": {
  "interpreter": {
   "hash": "c2c5f25bb9ed415c713469b698bd1c5102b92e6a1216299b5adc124b9cd965a4"
  },
  "kernelspec": {
   "display_name": "Python 3.10.2 64-bit",
   "language": "python",
   "name": "python3"
  },
  "language_info": {
   "codemirror_mode": {
    "name": "ipython",
    "version": 3
   },
   "file_extension": ".py",
   "mimetype": "text/x-python",
   "name": "python",
   "nbconvert_exporter": "python",
   "pygments_lexer": "ipython3",
   "version": "3.10.2"
  },
  "orig_nbformat": 4
 },
 "nbformat": 4,
 "nbformat_minor": 2
}
